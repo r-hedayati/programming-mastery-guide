{
 "cells": [
  {
   "cell_type": "markdown",
   "source": [
    "# Exploring data with Python - visualize data\r\n",
    "\r\n",
    "In this notebook, we'll apply basic techniques to analyze data with basic statistics and visualise using graphs. \r\n",
    "\r\n",
    "## Loading our data\r\n",
    "\r\n",
    "Before we being, lets load the same data about study hours that we analysed in the previous notebook. We will also recalculate who passed in the same way as last time\r\n",
    "Run the code in the cell below by clicking the **&#9658; Run** button to see the data."
   ],
   "metadata": {}
  },
  {
   "cell_type": "code",
   "execution_count": 1,
   "source": [
    "import pandas as pd\r\n",
    "\r\n",
    "# Load data from a text file\r\n",
    "!wget https://raw.githubusercontent.com/MicrosoftDocs/mslearn-introduction-to-machine-learning/main/Data/ml-basics/grades.csv\r\n",
    "df_students = pd.read_csv('grades.csv',delimiter=',',header='infer')\r\n",
    "\r\n",
    "# Remove any rows with missing data\r\n",
    "df_students = df_students.dropna(axis=0, how='any')\r\n",
    "\r\n",
    "# Calculate who passed, assuming '60' is the grade needed to pass\r\n",
    "passes  = pd.Series(df_students['Grade'] >= 60)\r\n",
    "\r\n",
    "# Save who passed to the Pandas dataframe\r\n",
    "df_students = pd.concat([df_students, passes.rename(\"Pass\")], axis=1)\r\n",
    "\r\n",
    "\r\n",
    "# Print the result out into this notebook\r\n",
    "df_students "
   ],
   "outputs": [
    {
     "output_type": "stream",
     "name": "stderr",
     "text": [
      "'wget' is not recognized as an internal or external command,\n",
      "operable program or batch file.\n"
     ]
    },
    {
     "output_type": "execute_result",
     "data": {
      "text/html": [
       "<div>\n",
       "<style scoped>\n",
       "    .dataframe tbody tr th:only-of-type {\n",
       "        vertical-align: middle;\n",
       "    }\n",
       "\n",
       "    .dataframe tbody tr th {\n",
       "        vertical-align: top;\n",
       "    }\n",
       "\n",
       "    .dataframe thead th {\n",
       "        text-align: right;\n",
       "    }\n",
       "</style>\n",
       "<table border=\"1\" class=\"dataframe\">\n",
       "  <thead>\n",
       "    <tr style=\"text-align: right;\">\n",
       "      <th></th>\n",
       "      <th>Name</th>\n",
       "      <th>StudyHours</th>\n",
       "      <th>Grade</th>\n",
       "      <th>Pass</th>\n",
       "    </tr>\n",
       "  </thead>\n",
       "  <tbody>\n",
       "    <tr>\n",
       "      <th>0</th>\n",
       "      <td>Dan</td>\n",
       "      <td>10.00</td>\n",
       "      <td>50.0</td>\n",
       "      <td>False</td>\n",
       "    </tr>\n",
       "    <tr>\n",
       "      <th>1</th>\n",
       "      <td>Joann</td>\n",
       "      <td>11.50</td>\n",
       "      <td>50.0</td>\n",
       "      <td>False</td>\n",
       "    </tr>\n",
       "    <tr>\n",
       "      <th>2</th>\n",
       "      <td>Pedro</td>\n",
       "      <td>9.00</td>\n",
       "      <td>47.0</td>\n",
       "      <td>False</td>\n",
       "    </tr>\n",
       "    <tr>\n",
       "      <th>3</th>\n",
       "      <td>Rosie</td>\n",
       "      <td>16.00</td>\n",
       "      <td>97.0</td>\n",
       "      <td>True</td>\n",
       "    </tr>\n",
       "    <tr>\n",
       "      <th>4</th>\n",
       "      <td>Ethan</td>\n",
       "      <td>9.25</td>\n",
       "      <td>49.0</td>\n",
       "      <td>False</td>\n",
       "    </tr>\n",
       "    <tr>\n",
       "      <th>5</th>\n",
       "      <td>Vicky</td>\n",
       "      <td>1.00</td>\n",
       "      <td>3.0</td>\n",
       "      <td>False</td>\n",
       "    </tr>\n",
       "    <tr>\n",
       "      <th>6</th>\n",
       "      <td>Frederic</td>\n",
       "      <td>11.50</td>\n",
       "      <td>53.0</td>\n",
       "      <td>False</td>\n",
       "    </tr>\n",
       "    <tr>\n",
       "      <th>7</th>\n",
       "      <td>Jimmie</td>\n",
       "      <td>9.00</td>\n",
       "      <td>42.0</td>\n",
       "      <td>False</td>\n",
       "    </tr>\n",
       "    <tr>\n",
       "      <th>8</th>\n",
       "      <td>Rhonda</td>\n",
       "      <td>8.50</td>\n",
       "      <td>26.0</td>\n",
       "      <td>False</td>\n",
       "    </tr>\n",
       "    <tr>\n",
       "      <th>9</th>\n",
       "      <td>Giovanni</td>\n",
       "      <td>14.50</td>\n",
       "      <td>74.0</td>\n",
       "      <td>True</td>\n",
       "    </tr>\n",
       "    <tr>\n",
       "      <th>10</th>\n",
       "      <td>Francesca</td>\n",
       "      <td>15.50</td>\n",
       "      <td>82.0</td>\n",
       "      <td>True</td>\n",
       "    </tr>\n",
       "    <tr>\n",
       "      <th>11</th>\n",
       "      <td>Rajab</td>\n",
       "      <td>13.75</td>\n",
       "      <td>62.0</td>\n",
       "      <td>True</td>\n",
       "    </tr>\n",
       "    <tr>\n",
       "      <th>12</th>\n",
       "      <td>Naiyana</td>\n",
       "      <td>9.00</td>\n",
       "      <td>37.0</td>\n",
       "      <td>False</td>\n",
       "    </tr>\n",
       "    <tr>\n",
       "      <th>13</th>\n",
       "      <td>Kian</td>\n",
       "      <td>8.00</td>\n",
       "      <td>15.0</td>\n",
       "      <td>False</td>\n",
       "    </tr>\n",
       "    <tr>\n",
       "      <th>14</th>\n",
       "      <td>Jenny</td>\n",
       "      <td>15.50</td>\n",
       "      <td>70.0</td>\n",
       "      <td>True</td>\n",
       "    </tr>\n",
       "    <tr>\n",
       "      <th>15</th>\n",
       "      <td>Jakeem</td>\n",
       "      <td>8.00</td>\n",
       "      <td>27.0</td>\n",
       "      <td>False</td>\n",
       "    </tr>\n",
       "    <tr>\n",
       "      <th>16</th>\n",
       "      <td>Helena</td>\n",
       "      <td>9.00</td>\n",
       "      <td>36.0</td>\n",
       "      <td>False</td>\n",
       "    </tr>\n",
       "    <tr>\n",
       "      <th>17</th>\n",
       "      <td>Ismat</td>\n",
       "      <td>6.00</td>\n",
       "      <td>35.0</td>\n",
       "      <td>False</td>\n",
       "    </tr>\n",
       "    <tr>\n",
       "      <th>18</th>\n",
       "      <td>Anila</td>\n",
       "      <td>10.00</td>\n",
       "      <td>48.0</td>\n",
       "      <td>False</td>\n",
       "    </tr>\n",
       "    <tr>\n",
       "      <th>19</th>\n",
       "      <td>Skye</td>\n",
       "      <td>12.00</td>\n",
       "      <td>52.0</td>\n",
       "      <td>False</td>\n",
       "    </tr>\n",
       "    <tr>\n",
       "      <th>20</th>\n",
       "      <td>Daniel</td>\n",
       "      <td>12.50</td>\n",
       "      <td>63.0</td>\n",
       "      <td>True</td>\n",
       "    </tr>\n",
       "    <tr>\n",
       "      <th>21</th>\n",
       "      <td>Aisha</td>\n",
       "      <td>12.00</td>\n",
       "      <td>64.0</td>\n",
       "      <td>True</td>\n",
       "    </tr>\n",
       "  </tbody>\n",
       "</table>\n",
       "</div>"
      ],
      "text/plain": [
       "         Name  StudyHours  Grade   Pass\n",
       "0         Dan       10.00   50.0  False\n",
       "1       Joann       11.50   50.0  False\n",
       "2       Pedro        9.00   47.0  False\n",
       "3       Rosie       16.00   97.0   True\n",
       "4       Ethan        9.25   49.0  False\n",
       "5       Vicky        1.00    3.0  False\n",
       "6    Frederic       11.50   53.0  False\n",
       "7      Jimmie        9.00   42.0  False\n",
       "8      Rhonda        8.50   26.0  False\n",
       "9    Giovanni       14.50   74.0   True\n",
       "10  Francesca       15.50   82.0   True\n",
       "11      Rajab       13.75   62.0   True\n",
       "12    Naiyana        9.00   37.0  False\n",
       "13       Kian        8.00   15.0  False\n",
       "14      Jenny       15.50   70.0   True\n",
       "15     Jakeem        8.00   27.0  False\n",
       "16     Helena        9.00   36.0  False\n",
       "17      Ismat        6.00   35.0  False\n",
       "18      Anila       10.00   48.0  False\n",
       "19       Skye       12.00   52.0  False\n",
       "20     Daniel       12.50   63.0   True\n",
       "21      Aisha       12.00   64.0   True"
      ]
     },
     "metadata": {},
     "execution_count": 1
    }
   ],
   "metadata": {}
  },
  {
   "cell_type": "markdown",
   "source": [
    "## Visualizing data with Matplotlib\r\n",
    "\r\n",
    "DataFrames provide a great way to explore and analyze tabular data, but sometimes a picture is worth a thousand rows and columns. The **Matplotlib** library provides the foundation for plotting data visualizations that can greatly enhance your ability the analyze the data.\r\n",
    "\r\n",
    "Let's start with a simple bar chart that shows the grade of each student."
   ],
   "metadata": {}
  },
  {
   "cell_type": "code",
   "execution_count": 2,
   "source": [
    "# Ensure plots are displayed inline in the notebook\r\n",
    "%matplotlib inline\r\n",
    "\r\n",
    "from matplotlib import pyplot as plt\r\n",
    "\r\n",
    "# Create a bar plot of name vs grade\r\n",
    "plt.bar(x=df_students.Name, height=df_students.Grade)\r\n",
    "\r\n",
    "# Display the plot\r\n",
    "plt.show()"
   ],
   "outputs": [
    {
     "output_type": "display_data",
     "data": {
      "image/png": "[encoded data removed]",
      "text/plain": [
       "<Figure size 432x288 with 1 Axes>"
      ]
     },
     "metadata": {
      "needs_background": "light"
     }
    }
   ],
   "metadata": {}
  },
  {
   "cell_type": "markdown",
   "source": [
    "Well, that worked; but the chart could use some improvements to make it clearer what we're looking at.\r\n",
    "\r\n",
    "Note that you used the **pyplot** class from Matplotlib to plot the chart. This class provides a whole bunch of ways to improve the visual elements of the plot. For example, the following code:\r\n",
    "\r\n",
    "- Specifies the color of the bar chart.\r\n",
    "- Adds a title to the chart (so we know what it represents)\r\n",
    "- Adds labels to the X and Y (so we know which axis shows which data)\r\n",
    "- Adds a grid (to make it easier to determine the values for the bars)\r\n",
    "- Rotates the X markers (so we can read them)"
   ],
   "metadata": {}
  },
  {
   "cell_type": "code",
   "execution_count": 3,
   "source": [
    "# Create a bar plot of name vs grade\r\n",
    "plt.bar(x=df_students.Name, height=df_students.Grade, color='orange')\r\n",
    "\r\n",
    "# Customize the chart\r\n",
    "plt.title('Student Grades')\r\n",
    "plt.xlabel('Student')\r\n",
    "plt.ylabel('Grade')\r\n",
    "plt.grid(color='#95a5a6', linestyle='--', linewidth=2, axis='y', alpha=0.7)\r\n",
    "plt.xticks(rotation=90)\r\n",
    "\r\n",
    "# Display the plot\r\n",
    "plt.show()"
   ],
   "outputs": [
    {
     "output_type": "display_data",
     "data": {
      "image/png": "[encoded data removed]",
      "text/plain": [
       "<Figure size 432x288 with 1 Axes>"
      ]
     },
     "metadata": {
      "needs_background": "light"
     }
    }
   ],
   "metadata": {}
  },
  {
   "cell_type": "markdown",
   "source": [
    "A plot is technically contained with a **Figure**. In the previous examples, the figure was created implicitly for you; but you can create it explicitly. For example, the following code creates a figure with a specific size."
   ],
   "metadata": {}
  },
  {
   "cell_type": "code",
   "execution_count": 4,
   "source": [
    "# Create a Figure\r\n",
    "fig = plt.figure(figsize=(8,3))\r\n",
    "\r\n",
    "# Create a bar plot of name vs grade\r\n",
    "plt.bar(x=df_students.Name, height=df_students.Grade, color='orange')\r\n",
    "\r\n",
    "# Customize the chart\r\n",
    "plt.title('Student Grades')\r\n",
    "plt.xlabel('Student')\r\n",
    "plt.ylabel('Grade')\r\n",
    "plt.grid(color='#95a5a6', linestyle='--', linewidth=2, axis='y', alpha=0.7)\r\n",
    "plt.xticks(rotation=90)\r\n",
    "\r\n",
    "# Show the figure\r\n",
    "plt.show()"
   ],
   "outputs": [
    {
     "output_type": "display_data",
     "data": {
      "image/png": "[encoded data removed]",
      "text/plain": [
       "<Figure size 576x216 with 1 Axes>"
      ]
     },
     "metadata": {
      "needs_background": "light"
     }
    }
   ],
   "metadata": {}
  },
  {
   "cell_type": "markdown",
   "source": [
    "A figure can contain multiple subplots, each on its own *axis*.\r\n",
    "\r\n",
    "For example, the following code creates a figure with two subplots - one is a bar chart showing student grades, and the other is a pie chart comparing the number of passing grades to non-passing grades."
   ],
   "metadata": {}
  },
  {
   "cell_type": "code",
   "execution_count": 5,
   "source": [
    "# Create a figure for 2 subplots (1 row, 2 columns)\r\n",
    "fig, ax = plt.subplots(1, 2, figsize = (10,4))\r\n",
    "\r\n",
    "# Create a bar plot of name vs grade on the first axis\r\n",
    "ax[0].bar(x=df_students.Name, height=df_students.Grade, color='orange')\r\n",
    "ax[0].set_title('Grades')\r\n",
    "ax[0].set_xticklabels(df_students.Name, rotation=90)\r\n",
    "\r\n",
    "# Create a pie chart of pass counts on the second axis\r\n",
    "pass_counts = df_students['Pass'].value_counts()\r\n",
    "ax[1].pie(pass_counts, labels=pass_counts)\r\n",
    "ax[1].set_title('Passing Grades')\r\n",
    "ax[1].legend(pass_counts.keys().tolist())\r\n",
    "\r\n",
    "# Add a title to the Figure\r\n",
    "fig.suptitle('Student Data')\r\n",
    "\r\n",
    "# Show the figure\r\n",
    "fig.show()"
   ],
   "outputs": [
    {
     "output_type": "stream",
     "name": "stderr",
     "text": [
      "D:\\ProgamFiles\\x64\\Python\\lib\\site-packages\\ipykernel_launcher.py:19: UserWarning: Matplotlib is currently using module://ipykernel.pylab.backend_inline, which is a non-GUI backend, so cannot show the figure.\n"
     ]
    },
    {
     "output_type": "display_data",
     "data": {
      "image/png": "[encoded data removed]",
      "text/plain": [
       "<Figure size 720x288 with 2 Axes>"
      ]
     },
     "metadata": {
      "needs_background": "light"
     }
    }
   ],
   "metadata": {}
  },
  {
   "cell_type": "markdown",
   "source": [
    "Until now, you've used methods of the Matplotlib.pyplot object to plot charts. However, Matplotlib is so foundational to graphics in Python that many packages, including Pandas, provide methods that abstract the underlying Matplotlib functions and simplify plotting. For example, the DataFrame provides its own methods for plotting data, as shown in the following example to plot a bar chart of study hours."
   ],
   "metadata": {}
  },
  {
   "cell_type": "code",
   "execution_count": 6,
   "source": [
    "df_students.plot.bar(x='Name', y='StudyHours', color='teal', figsize=(6,4))"
   ],
   "outputs": [
    {
     "output_type": "execute_result",
     "data": {
      "text/plain": [
       "<matplotlib.axes._subplots.AxesSubplot at 0x1fd4e319f98>"
      ]
     },
     "metadata": {},
     "execution_count": 6
    },
    {
     "output_type": "display_data",
     "data": {
      "image/png": "[encoded data removed]",
      "text/plain": [
       "<Figure size 432x288 with 1 Axes>"
      ]
     },
     "metadata": {
      "needs_background": "light"
     }
    }
   ],
   "metadata": {}
  },
  {
   "cell_type": "markdown",
   "source": [
    "## Getting started with statistical analysis\r\n",
    "\r\n",
    "Now that you know how to use Python to manipulate and visualize data, you can start analyzing it.\r\n",
    "\r\n",
    "A lot of data science is rooted in *statistics*, so we'll explore some basic statistical techniques.\r\n",
    "\r\n",
    "> **Note**: This is <u>not</u> intended to teach you statistics - that's much too big a topic for this notebook. It will however introduce you to some statistical concepts and techniques that data scientists use as they explore data in preparation for machine learning modeling.\r\n",
    "\r\n",
    "### Descriptive statistics and data distribution\r\n",
    "\r\n",
    "When examining a *variable* (for example a sample of student grades), data scientists are particularly interested in its *distribution* (in other words, how are all the different grade values spread across the sample). The starting point for this exploration is often to visualize the data as a histogram, and see how frequently each value for the variable occurs.\r\n",
    "\r\n",
    "\r\n",
    "\r\n",
    "\r\n"
   ],
   "metadata": {}
  },
  {
   "cell_type": "code",
   "execution_count": 7,
   "source": [
    "# Get the variable to examine\r\n",
    "var_data = df_students['Grade']\r\n",
    "\r\n",
    "# Create a Figure\r\n",
    "fig = plt.figure(figsize=(10,4))\r\n",
    "\r\n",
    "# Plot a histogram\r\n",
    "plt.hist(var_data)\r\n",
    "\r\n",
    "# Add titles and labels\r\n",
    "plt.title('Data Distribution')\r\n",
    "plt.xlabel('Value')\r\n",
    "plt.ylabel('Frequency')\r\n",
    "\r\n",
    "# Show the figure\r\n",
    "fig.show()"
   ],
   "outputs": [
    {
     "output_type": "stream",
     "name": "stderr",
     "text": [
      "D:\\ProgamFiles\\x64\\Python\\lib\\site-packages\\ipykernel_launcher.py:16: UserWarning: Matplotlib is currently using module://ipykernel.pylab.backend_inline, which is a non-GUI backend, so cannot show the figure.\n",
      "  app.launch_new_instance()\n"
     ]
    },
    {
     "output_type": "display_data",
     "data": {
      "image/png": "[encoded data removed]",
      "text/plain": [
       "<Figure size 720x288 with 1 Axes>"
      ]
     },
     "metadata": {
      "needs_background": "light"
     }
    }
   ],
   "metadata": {}
  },
  {
   "cell_type": "markdown",
   "source": [
    "The histogram for grades is a symmetric shape, where the most frequently occurring grades tend to be in the middle of the range (around 50), with fewer grades at the extreme ends of the scale.\r\n",
    "\r\n",
    "#### Measures of central tendency\r\n",
    "\r\n",
    "To understand the distribution better, we can examine so-called *measures of central tendency*; which is a fancy way of describing statistics that represent the \"middle\" of the data. The goal of this is to try to find a \"typical\" value. Common ways to define the middle of the data include:\r\n",
    "\r\n",
    "- The *mean*: A simple average based on adding together all of the values in the sample set, and then dividing the total by the number of samples.\r\n",
    "- The *median*: The value in the middle of the range of all of the sample values.\r\n",
    "- The *mode*: The most commonly occuring value in the sample set<sup>\\*</sup>.\r\n",
    "\r\n",
    "Let's calculate these values, along with the minimum and maximum values for comparison, and show them on the histogram.\r\n",
    "\r\n",
    "> <sup>\\*</sup>Of course, in some sample sets , there may be a tie for the most common value - in which case the dataset is described as *bimodal* or even *multimodal*."
   ],
   "metadata": {}
  },
  {
   "cell_type": "code",
   "execution_count": 8,
   "source": [
    "# Get the variable to examine\r\n",
    "var = df_students['Grade']\r\n",
    "\r\n",
    "# Get statistics\r\n",
    "min_val = var.min()\r\n",
    "max_val = var.max()\r\n",
    "mean_val = var.mean()\r\n",
    "med_val = var.median()\r\n",
    "mod_val = var.mode()[0]\r\n",
    "\r\n",
    "print('Minimum:{:.2f}\\nMean:{:.2f}\\nMedian:{:.2f}\\nMode:{:.2f}\\nMaximum:{:.2f}\\n'.format(min_val,\r\n",
    "                                                                                        mean_val,\r\n",
    "                                                                                        med_val,\r\n",
    "                                                                                        mod_val,\r\n",
    "                                                                                        max_val))\r\n",
    "\r\n",
    "# Create a Figure\r\n",
    "fig = plt.figure(figsize=(10,4))\r\n",
    "\r\n",
    "# Plot a histogram\r\n",
    "plt.hist(var)\r\n",
    "\r\n",
    "# Add lines for the statistics\r\n",
    "plt.axvline(x=min_val, color = 'gray', linestyle='dashed', linewidth = 2)\r\n",
    "plt.axvline(x=mean_val, color = 'cyan', linestyle='dashed', linewidth = 2)\r\n",
    "plt.axvline(x=med_val, color = 'red', linestyle='dashed', linewidth = 2)\r\n",
    "plt.axvline(x=mod_val, color = 'yellow', linestyle='dashed', linewidth = 2)\r\n",
    "plt.axvline(x=max_val, color = 'gray', linestyle='dashed', linewidth = 2)\r\n",
    "\r\n",
    "# Add titles and labels\r\n",
    "plt.title('Data Distribution')\r\n",
    "plt.xlabel('Value')\r\n",
    "plt.ylabel('Frequency')\r\n",
    "\r\n",
    "# Show the figure\r\n",
    "fig.show()"
   ],
   "outputs": [
    {
     "output_type": "stream",
     "name": "stdout",
     "text": [
      "Minimum:3.00\n",
      "Mean:49.18\n",
      "Median:49.50\n",
      "Mode:50.00\n",
      "Maximum:97.00\n",
      "\n"
     ]
    },
    {
     "output_type": "stream",
     "name": "stderr",
     "text": [
      "D:\\ProgamFiles\\x64\\Python\\lib\\site-packages\\ipykernel_launcher.py:36: UserWarning: Matplotlib is currently using module://ipykernel.pylab.backend_inline, which is a non-GUI backend, so cannot show the figure.\n"
     ]
    },
    {
     "output_type": "display_data",
     "data": {
      "image/png": "[encoded data removed]",
      "text/plain": [
       "<Figure size 720x288 with 1 Axes>"
      ]
     },
     "metadata": {
      "needs_background": "light"
     }
    }
   ],
   "metadata": {}
  },
  {
   "cell_type": "markdown",
   "source": [
    "For the grade data, the mean, median, and mode all seem to be more or less in the middle of the minimum and maximum, at around 50.\r\n",
    "\r\n",
    "Another way to visualize the distribution of a variable is to use a *box* plot (sometimes called a *box-and-whiskers* plot). Let's create one for the grade data."
   ],
   "metadata": {}
  },
  {
   "cell_type": "code",
   "execution_count": 9,
   "source": [
    "# Get the variable to examine\r\n",
    "var = df_students['Grade']\r\n",
    "\r\n",
    "# Create a Figure\r\n",
    "fig = plt.figure(figsize=(10,4))\r\n",
    "\r\n",
    "# Plot a histogram\r\n",
    "plt.boxplot(var)\r\n",
    "\r\n",
    "# Add titles and labels\r\n",
    "plt.title('Data Distribution')\r\n",
    "\r\n",
    "# Show the figure\r\n",
    "fig.show()"
   ],
   "outputs": [
    {
     "output_type": "stream",
     "name": "stderr",
     "text": [
      "D:\\ProgamFiles\\x64\\Python\\lib\\site-packages\\ipykernel_launcher.py:14: UserWarning: Matplotlib is currently using module://ipykernel.pylab.backend_inline, which is a non-GUI backend, so cannot show the figure.\n",
      "  \n"
     ]
    },
    {
     "output_type": "display_data",
     "data": {
      "image/png": "[encoded data removed]",
      "text/plain": [
       "<Figure size 720x288 with 1 Axes>"
      ]
     },
     "metadata": {
      "needs_background": "light"
     }
    }
   ],
   "metadata": {}
  },
  {
   "cell_type": "markdown",
   "source": [
    "The box plot shows the distribution of the grade values in a different format to the histogram. The *box* part of the plot shows where the inner two *quartiles* of the data reside - so in this case, half of the grades are between approximately 36 and 63. The *whiskers* extending from the box show the outer two quartiles; so the other half of the grades in this case are between 0 and 36 or 63 and 100. The line in the box indicates the *median* value.\r\n",
    "\r\n",
    "For learning, it can be useful to combine histograms and box plots, with the box plot's orientation changed to align it with the histogram (in some ways, it can be helpful to think of the histogram as a \"front elevation\" view of the distribution, and the box plot as a \"plan\" view of the distribution from above.)"
   ],
   "metadata": {}
  },
  {
   "cell_type": "code",
   "execution_count": 10,
   "source": [
    "# Create a function that we can re-use\r\n",
    "def show_distribution(var_data):\r\n",
    "    from matplotlib import pyplot as plt\r\n",
    "\r\n",
    "    # Get statistics\r\n",
    "    min_val = var_data.min()\r\n",
    "    max_val = var_data.max()\r\n",
    "    mean_val = var_data.mean()\r\n",
    "    med_val = var_data.median()\r\n",
    "    mod_val = var_data.mode()[0]\r\n",
    "\r\n",
    "    print('Minimum:{:.2f}\\nMean:{:.2f}\\nMedian:{:.2f}\\nMode:{:.2f}\\nMaximum:{:.2f}\\n'.format(min_val,\r\n",
    "                                                                                            mean_val,\r\n",
    "                                                                                            med_val,\r\n",
    "                                                                                            mod_val,\r\n",
    "                                                                                            max_val))\r\n",
    "\r\n",
    "    # Create a figure for 2 subplots (2 rows, 1 column)\r\n",
    "    fig, ax = plt.subplots(2, 1, figsize = (10,4))\r\n",
    "\r\n",
    "    # Plot the histogram   \r\n",
    "    ax[0].hist(var_data)\r\n",
    "    ax[0].set_ylabel('Frequency')\r\n",
    "\r\n",
    "    # Add lines for the mean, median, and mode\r\n",
    "    ax[0].axvline(x=min_val, color = 'gray', linestyle='dashed', linewidth = 2)\r\n",
    "    ax[0].axvline(x=mean_val, color = 'cyan', linestyle='dashed', linewidth = 2)\r\n",
    "    ax[0].axvline(x=med_val, color = 'red', linestyle='dashed', linewidth = 2)\r\n",
    "    ax[0].axvline(x=mod_val, color = 'yellow', linestyle='dashed', linewidth = 2)\r\n",
    "    ax[0].axvline(x=max_val, color = 'gray', linestyle='dashed', linewidth = 2)\r\n",
    "\r\n",
    "    # Plot the boxplot   \r\n",
    "    ax[1].boxplot(var_data, vert=False)\r\n",
    "    ax[1].set_xlabel('Value')\r\n",
    "\r\n",
    "    # Add a title to the Figure\r\n",
    "    fig.suptitle('Data Distribution')\r\n",
    "\r\n",
    "    # Show the figure\r\n",
    "    fig.show()\r\n",
    "\r\n",
    "# Get the variable to examine\r\n",
    "col = df_students['Grade']\r\n",
    "# Call the function\r\n",
    "show_distribution(col)"
   ],
   "outputs": [
    {
     "output_type": "stream",
     "name": "stdout",
     "text": [
      "Minimum:3.00\n",
      "Mean:49.18\n",
      "Median:49.50\n",
      "Mode:50.00\n",
      "Maximum:97.00\n",
      "\n"
     ]
    },
    {
     "output_type": "stream",
     "name": "stderr",
     "text": [
      "D:\\ProgamFiles\\x64\\Python\\lib\\site-packages\\ipykernel_launcher.py:40: UserWarning: Matplotlib is currently using module://ipykernel.pylab.backend_inline, which is a non-GUI backend, so cannot show the figure.\n"
     ]
    },
    {
     "output_type": "display_data",
     "data": {
      "image/png": "[encoded data removed]",
      "text/plain": [
       "<Figure size 720x288 with 2 Axes>"
      ]
     },
     "metadata": {
      "needs_background": "light"
     }
    }
   ],
   "metadata": {}
  },
  {
   "cell_type": "markdown",
   "source": [
    "All of the measurements of central tendency are right in the middle of the data distribution, which is symmetric with values becoming progressively lower in both directions from the middle.\r\n",
    "\r\n",
    "To explore this distribution in more detail, you need to understand that statistics is fundamentally about taking *samples* of data and using probability functions to extrapolate information about the full *population* of data. \r\n",
    "\r\n",
    "What does this mean? *Samples* refer to the data we have on hand - such as information about these 22 students' study habits and grades. The *population* refers to all possible data we could collect - such as every student's grades and study habits across every educational institution throughout the history of time. Usually we're interested in the population but it's simply not practical to collect all of that data. Instead, we need to try estimate what the population is like from the small amount of data (samples) that we have.\r\n",
    "\r\n",
    "If we have enough samples, we can calculate something called a *probability density function*, which estimates the distribution of grades for the full population.\r\n",
    "\r\n",
    "The Pandas DataFrame class provides a helpful plot function to show this density."
   ],
   "metadata": {}
  },
  {
   "cell_type": "code",
   "execution_count": 11,
   "source": [
    "def show_density(var_data):\r\n",
    "    from matplotlib import pyplot as plt\r\n",
    "\r\n",
    "    fig = plt.figure(figsize=(10,4))\r\n",
    "\r\n",
    "    # Plot density\r\n",
    "    var_data.plot.density()\r\n",
    "\r\n",
    "    # Add titles and labels\r\n",
    "    plt.title('Data Density')\r\n",
    "\r\n",
    "    # Show the mean, median, and mode\r\n",
    "    plt.axvline(x=var_data.mean(), color = 'cyan', linestyle='dashed', linewidth = 2)\r\n",
    "    plt.axvline(x=var_data.median(), color = 'red', linestyle='dashed', linewidth = 2)\r\n",
    "    plt.axvline(x=var_data.mode()[0], color = 'yellow', linestyle='dashed', linewidth = 2)\r\n",
    "\r\n",
    "    # Show the figure\r\n",
    "    plt.show()\r\n",
    "\r\n",
    "# Get the density of Grade\r\n",
    "col = df_students['Grade']\r\n",
    "show_density(col)"
   ],
   "outputs": [
    {
     "output_type": "display_data",
     "data": {
      "image/png": "[encoded data removed]",
      "text/plain": [
       "<Figure size 720x288 with 1 Axes>"
      ]
     },
     "metadata": {
      "needs_background": "light"
     }
    }
   ],
   "metadata": {}
  },
  {
   "cell_type": "markdown",
   "source": [
    "As expected from the histogram of the sample, the density shows the characteristic \"bell curve\" of what statisticians call a *normal* distribution with the mean and mode at the center and symmetric tails.\r\n",
    "\r\n",
    "## Summary\r\n",
    "\r\n",
    "Well done! There were a number of new concepts in here, so let's summarise. \r\n",
    "\r\n",
    "Here we have:\r\n",
    "\r\n",
    "1. Made graphs with matplotlib\r\n",
    "2. Seen how to customise these graphs\r\n",
    "3. Calculated basic statistics, such as medians\r\n",
    "4. Looked at the spread of data using box plots and histograms\r\n",
    "5. Learned about samples vs populations\r\n",
    "6. Estimated what the population of graphse might look like from a sample of grades.\r\n",
    "\r\n",
    "In our next notebook we will look at spotting unusual data, and finding relationships between data.\r\n",
    "\r\n",
    "## Further Reading\r\n",
    "\r\n",
    "To learn more about the Python packages you explored in this notebook, see the following documentation:\r\n",
    "\r\n",
    "- [NumPy](https://numpy.org/doc/stable/)\r\n",
    "- [Pandas](https://pandas.pydata.org/pandas-docs/stable/)\r\n",
    "- [Matplotlib](https://matplotlib.org/contents.html)"
   ],
   "metadata": {}
  }
 ],
 "metadata": {
  "orig_nbformat": 4,
  "language_info": {
   "name": "python",
   "version": "3.7.3",
   "mimetype": "text/x-python",
   "codemirror_mode": {
    "name": "ipython",
    "version": 3
   },
   "pygments_lexer": "ipython3",
   "nbconvert_exporter": "python",
   "file_extension": ".py"
  },
  "kernelspec": {
   "name": "python3",
   "display_name": "Python 3.7.3 64-bit"
  },
  "interpreter": {
   "hash": "c9280a13523f92c12fae5c61aa45eee1d5d275e7daa5cd21474b559cf20c8caa"
  }
 },
 "nbformat": 4,
 "nbformat_minor": 2
}