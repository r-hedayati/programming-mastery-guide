{
 "cells": [
  {
   "cell_type": "markdown",
   "id": "8a526bcf-4831-4151-993a-9b1f418c3cf1",
   "metadata": {
    "tags": []
   },
   "source": [
    "# Strings\n",
    "<a class=\"anchor\" id=\"string_manipulation\"></a>\n",
    "\n",
    "Strings (a flat sequence) are objects that contain sequences of character data, which made them a immutable data structure (cannot change -- change them by slicing).\n",
    "\n",
    "## String Manipulation\n",
    "\n",
    "|Operator |\tExample |\tMeaning |\tResult |\n",
    "|:--|:--|:--|:--|\n",
    "|`+` |\t`\"Ali\"+\"Ahmad\"` |\t**Concating** | `AliAhmad` |\n",
    "|`*` |\t`\"Ali\" * 3` |\t**Multiple Copies** | `AliAliAli` |\n",
    "|`in` or `not in` |\t`\"Ali\" in \"Ali eat an apple\"` |\t**searching a specified string** | `True` if `Ali` is in the sentence. `False` otherwise |\n",
    "\n",
    "## Built-in String Functions\n",
    "\n",
    "|Function | Description| Example | Result |\n",
    "|:--|:--|:--|:--|\n",
    "|`chr()` | Converts an integer to a character | `ord('?')`| `63`|\n",
    "|`ord()` | Converts a character to an integer |`chr(97)`|`\"a\"`|\n",
    "|`len()` | Returns the length of a string |`len(\"I am a string.\")`|`14`|\n",
    "|`str()` | Returns a string representation of an object |`str(49.2)`|`\"49.2\"`|\n",
    "\n",
    "## Slicing\n",
    "\n",
    "if `s = 'foobar' `, then we have:\n",
    "\n",
    "| Example | Result |\n",
    "|:--|:--|\n",
    "| `s[1:3]`| `'oo'`|\n",
    "|`s[len(s)-1]==s[-1]`|`'r'`|\n",
    "|`s[2:len(s)]`|`obar`|\n",
    "|`s[-5:-2]`|`'oob'`|\n",
    "|`s[0:6:2]==s[:6:2]`|`foa`|\n",
    "|`s[5:0:-2]==s[5::-2]`|`'rbo'`|\n",
    "|`s[::-1]`|`'raboof'`|\n",
    "\n",
    "\n",
    "## Notes\n",
    "\n",
    "- we can reverse a string using `s[::-1]` &rarr; `'raboof'`\n",
    "- string cannot be modified using `s[3]='x'`, we can change it using `s[:3]+'x'+s[4:]`\n",
    "\n",
    "## Printing options: \n",
    "\n",
    "if `n=20, m=10`, we can print `'n is 20 and m is 10'` using the following options: \n",
    " - **f-string:** `print(f'n is {n} and m is {m}'`\n",
    " - "
   ]
  },
  {
   "cell_type": "markdown",
   "id": "7acb7094-35c1-4d70-8da3-c2146c0c8cc3",
   "metadata": {},
   "source": [
    "# Lists\n",
    "<a class=\"anchor\" id=\"list_manipulation\"></a>\n",
    "\n",
    "a list (a container sequence) is a collection of arbitrary objects. Each object saves in the list as a pointer (refrence). The important characteristics of Python lists are as follows:\n",
    "\n",
    "- Lists are ordered. `[1,2] != [2,1]`\n",
    "- Lists can contain any arbitrary objects. `my_list=['Hi', 1021, False, 29.34, 'Bye', '21', [1,2,3], math]` in this example `math` is a function\n",
    "- List elements can be accessed by index. `my_list[1] == 1021` and all **string manipulation** can be done with lists too.\n",
    "- Lists can be nested to arbitrary depth. `x = ['a', ['bb', ['ccc', 'ddd'], 'ee', 'ff'], 'g']` and we can reach to each element using indexing: `x[1][1][1]=='ccc'`\n",
    "- Lists are mutable. `my_list[0]='Salam'`\n",
    "- Lists are dynamic.\n",
    "\n",
    "## Notes\n",
    "\n",
    "`my_list = [1,2,3,4,5]`\n",
    "\n",
    "| Description| Example | Result |\n",
    "|:--|:--|:--|\n",
    "| reversing a list | `my_list[::-1]`| `[5,4,3,2,1]`|\n",
    "| finding an item |`'Hi' in my_list`|`False`|\n",
    "|deleting an item |`del my_list[0]`|`[2,3,4,5]`|\n",
    "|deleting multiple item|`del my_list[1:3]` or `my_list[1:3]=[]`|`[1,4,5]`|\n",
    "|appending an item to the end of the list |`my_list.append('Ali')`|`[1,2,3,4,5,'Ali']`|\n",
    "|inserting a value w/o changing list|`my_list[2:2]=23.11`|`[1,23.11,2,3,4,5]`|\n",
    "|prepending and appending|`['asad']+my_list+['54','34']`| `['asad',1,2,3,4,5,'54','34']`\n",
    "\n",
    "- **list vs string**: if we have a list name `a` `and b=a[:]` &rarr; `b` will be a copy of list `a` (with unique address). However, in strings, this will not happen because they are immutable.\n",
    "- **append() method vs appending**: the append() method is faster than appending using concating. In concating the whole list will be copied into new address\n",
    "- a list must be concatenated with another list, so if you want to add only one element, you need to specify it as a singleton list: `my_list+=[20]`"
   ]
  },
  {
   "cell_type": "markdown",
   "id": "053c0286-e8ba-49ec-951d-0168b7f9063c",
   "metadata": {
    "tags": []
   },
   "source": [
    "# Tuples\n",
    "<a class=\"anchor\" id=\"tuple_manipulation\"></a>\n",
    "\n",
    "Tuples are identical to lists (read-only version of list) in all respects, except for the following properties:\n",
    "\n",
    "- Tuples are defined by enclosing the elements in parentheses (`()`) instead of square brackets `[]`). `my_tuple=(1,2,3)`\n",
    "- Tuples are immutable.\n",
    "\n",
    "**When use Tuple over List**: \n",
    "- Program execution is faster when manipulating a tuple than it is for the equivalent list. (for big data)\n",
    "- Sometimes you don’t want data to be modified. \n",
    "- They can be used in keys of dictionaries.\n",
    "\n",
    "**packing and unpacking**\n",
    "```python\n",
    "t = (1, 32, 91, 21)\n",
    "(s1, s2, s3, s4) = t\n",
    "```\n",
    "or \n",
    "```python\n",
    "(s1, s2, s3, s4) = (1, 32, 91, 21)\n",
    "```\n",
    "- then `s1` will be `1`, `s2` will be `32`, `s3` will be `91`, and `s4` will be `21`.\n",
    "\n",
    "- also it is very useful for **swaping**: \n",
    "\n",
    "```python\n",
    "\n",
    "a = 'foo'\n",
    "b = 'bar'\n",
    "\n",
    "a, b = b, a\n",
    "```\n"
   ]
  },
  {
   "cell_type": "markdown",
   "id": "883f0697-41c8-4092-9d9c-e6ca17021a1a",
   "metadata": {},
   "source": [
    "# Dictionaries\n",
    "<a class=\"anchor\" id=\"dictionary_manipulation\"></a>\n",
    "\n",
    "Dictionaries are Python’s implementation of a data structure that is more generally known as an associative array. A dictionary consists of a collection of key-value pairs. Each key-value pair maps the key to its associated value.\n",
    "\n",
    "Dictionaries and lists share the following characteristics:\n",
    "\n",
    "- Both are mutable.\n",
    "- Both are dynamic. They can grow and shrink as needed.\n",
    "- Both can be nested. A list can contain another list. A dictionary can contain another dictionary. A dictionary can also contain a list, and vice versa.\n",
    "\n",
    "Dictionaries differ from lists primarily in how elements are accessed:\n",
    "\n",
    "- List elements are accessed by their position in the list, via indexing.\n",
    "- Dictionary elements are accessed via keys.\n",
    "\n",
    "**Different ways of defining a dictionary**\n",
    "- `d = {key1:value1, ke2=value2, ... , keyN=valueN}`\n",
    "- `d = dict(key1=value1, key2=value2, ... , keyN=vauleN)`\n",
    "- `d = dict([(key1, value1), (key2, value2), ... , (keyN, valueN)])`\n",
    "- creating using empty dictionary:\n",
    "\n",
    "```\n",
    "person={}\n",
    "\n",
    "person['age']=31\n",
    "person['job']='student'\n",
    "person['children'] = ['Ralph', 'Betty', 'Joey']\n",
    "person['pets'] = {'dog': 'Fido', 'cat': 'Sox'}\n",
    "```\n",
    "\n",
    "**regular operations on dictionaries**\n",
    "\n",
    "`my_dict={'Math': 20, 'Grammer': 17, 'History': 13, 'Art':19 }`\n",
    "\n",
    "| Description| Example | Result |\n",
    "|:--|:--|:--|\n",
    "| accessing dictonary values | `my_dict['Math']`| `20`|\n",
    "| adding a new entry |`my_dict['Sport']=18` | `{'Math': 20, 'Grammer': 17, 'History': 13, 'Art':19, 'Sport':18 }`|\n",
    "| updating an entry | `my_dict['Sport']=17` | `{'Math': 20, 'Grammer': 17, 'History': 13, 'Art':19, 'Sport':17 }`|\n",
    "\n",
    "\n",
    "## Notes\n",
    "- keys of a dictionary should be hashable. we can try it with using `hash()` function.\n",
    "- list cannot be a key of a dictionary (because they are not hashable). **tuple** can be dictonary's key. `my_dict={(1,1): 25, (1,2): 35}`"
   ]
  },
  {
   "cell_type": "markdown",
   "id": "fb1ea0c2-b845-4743-84c8-0dba03e7cec2",
   "metadata": {},
   "source": [
    "# Sets\n",
    "<a class=\"anchor\" id=\"set_manipulation\"></a>\n",
    "\n",
    "In mathematics, a rigorous definition of a set can be abstract and difficult to grasp. Practically though, a set can be thought of simply as a well-defined collection of distinct objects, typically called elements or members.\n",
    "\n",
    "- Defining sets:\n",
    "\n",
    "```\n",
    "s={1,2,3}\n",
    "or\n",
    "s=set(1,2,3)\n",
    "```\n",
    "\n",
    "**The set is usally used for searching or finding unique items**. Python’s built-in set type has the following characteristics:\n",
    "\n",
    "- Sets are unordered. \n",
    "- Indexing is not possible in set. However, you can search into set using `in`.\n",
    "```\n",
    "s[1] is false\n",
    "1 in s \n",
    "```\n",
    "- Set elements are unique. Duplicate elements are not allowed (finding unique items in a list, dictionary, or etc). \n",
    "\n",
    "```\n",
    "s={1,2,3,4,4,4,4} 'then s will be' s={1,2,3,4}\n",
    "\n",
    "```\n",
    "- A set itself may be modified, but the elements contained in the set must be of an immutable type.\n",
    "- set of a string `s='Ali, set(s)'` would be the character of that string `s={'A', 'l' ,'i'}`. \n",
    "\n"
   ]
  },
  {
   "cell_type": "code",
   "execution_count": 8,
   "id": "d6eba6b5-8cda-498b-b272-021c27d60451",
   "metadata": {},
   "outputs": [
    {
     "data": {
      "text/plain": [
       "64"
      ]
     },
     "execution_count": 8,
     "metadata": {},
     "output_type": "execute_result"
    }
   ],
   "source": [
    "import sys\n",
    "sys.getsizeof([1])"
   ]
  },
  {
   "cell_type": "code",
   "execution_count": 26,
   "id": "941619df-1a34-4d43-adc2-7fa91742ee8e",
   "metadata": {},
   "outputs": [
    {
     "data": {
      "text/plain": [
       "{1, 2, 3}"
      ]
     },
     "execution_count": 26,
     "metadata": {},
     "output_type": "execute_result"
    }
   ],
   "source": [
    "set([1,2,3]\n",
    "   )"
   ]
  },
  {
   "cell_type": "code",
   "execution_count": null,
   "id": "e598afba-1320-42e1-bd3c-0fd4741e8fe6",
   "metadata": {},
   "outputs": [],
   "source": []
  }
 ],
 "metadata": {
  "kernelspec": {
   "display_name": "Python 3 (ipykernel)",
   "language": "python",
   "name": "python3"
  },
  "language_info": {
   "codemirror_mode": {
    "name": "ipython",
    "version": 3
   },
   "file_extension": ".py",
   "mimetype": "text/x-python",
   "name": "python",
   "nbconvert_exporter": "python",
   "pygments_lexer": "ipython3",
   "version": "3.10.4"
  }
 },
 "nbformat": 4,
 "nbformat_minor": 5
}
