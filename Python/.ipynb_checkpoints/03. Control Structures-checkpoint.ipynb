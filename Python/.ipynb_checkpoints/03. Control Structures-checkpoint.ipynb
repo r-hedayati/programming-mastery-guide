{
 "cells": [
  {
   "cell_type": "markdown",
   "id": "54670e08-aa1c-43b6-9414-5fb5431ef078",
   "metadata": {},
   "source": [
    "# Conditional Statements\n",
    "<a class=\"anchor\" id=\"conditional_statement\"></a>\n",
    "\n",
    "In a Python program, the if statement is how you perform this sort of decision-making. It allows for **conditional** execution of a statement or group of statements based on the value of an expression.\n",
    "## if Statement\n",
    "```python\n",
    "if <expr>:\n",
    "    <statement>\n",
    "```\n",
    "- If `<expr>` is true (evaluates to a value that is “truthy”), then `<statement>` is executed. If `<expr>` is false, then `<statement>` is skipped over and not executed.\n",
    "\n",
    "\n",
    "- Here, all the statements at the matching indentation level (lines 2 to 5) are considered part of the same block. The entire block is executed if `<expr>` is true, or skipped over if `<expr>` is false. Either way, execution proceeds with `<following_statement>` (line 6) afterward.\n",
    "\n",
    "```python\n",
    "if <expr>:\n",
    "    <statement>\n",
    "    <statement>\n",
    "    ...\n",
    "    <statement>\n",
    "<following_statement>\n",
    "```\n",
    "- Sometimes, you want to evaluate a condition and take one path if it is true but specify an alternative path if it is not. This is accomplished with an `else` clause:\n",
    "\n",
    "```python\n",
    "if <expr>:\n",
    "    <statement(s)>\n",
    "else:\n",
    "    <statement(s)>\n",
    "```\n",
    "\n",
    "- There is also syntax for branching execution based on several alternatives. For this, use one or more `elif` (short for `else if`) clauses. Python evaluates each `<expr>` in turn and executes the suite corresponding to the first that is true. If none of the expressions are true, and an `else` clause is specified, then its suite is executed:\n",
    "\n",
    "```python\n",
    "if <expr>:\n",
    "    <statement(s)>\n",
    "elif <expr>:\n",
    "    <statement(s)>\n",
    "elif <expr>:\n",
    "    <statement(s)>\n",
    "    ...\n",
    "else:\n",
    "    <statement(s)>\n",
    "```\n",
    "\n",
    "## Notes\n",
    "- Using a lengthy `if/elif/else` series can be a little inelegant, especially when the actions are simple statements like `print()`. In many cases, there may be a more Pythonic way to accomplish the same thing. Here’s one possible alternative to the example above using f-string:\n",
    "\n",
    "```python\n",
    "\n",
    "name = 'Joe'\n",
    "\n",
    "if name in ['Fred', 'Xander', 'Joe', 'Arnold']:\n",
    "    print(f'Hello {name}')\n",
    "else:\n",
    "    print(\"I don't know who you are!\")\n",
    "    \n",
    "```"
   ]
  },
  {
   "cell_type": "code",
   "execution_count": null,
   "id": "bd3aadad-7dfd-4229-840d-e9342bf065f4",
   "metadata": {},
   "outputs": [],
   "source": []
  }
 ],
 "metadata": {
  "kernelspec": {
   "display_name": "Python 3 (ipykernel)",
   "language": "python",
   "name": "python3"
  },
  "language_info": {
   "codemirror_mode": {
    "name": "ipython",
    "version": 3
   },
   "file_extension": ".py",
   "mimetype": "text/x-python",
   "name": "python",
   "nbconvert_exporter": "python",
   "pygments_lexer": "ipython3",
   "version": "3.10.4"
  }
 },
 "nbformat": 4,
 "nbformat_minor": 5
}
